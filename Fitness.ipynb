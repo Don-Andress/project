{
  "nbformat": 4,
  "nbformat_minor": 0,
  "metadata": {
    "colab": {
      "private_outputs": true,
      "provenance": []
    },
    "kernelspec": {
      "name": "python3",
      "display_name": "Python 3"
    },
    "language_info": {
      "name": "python"
    }
  },
  "cells": [
    {
      "cell_type": "markdown",
      "source": [
        "# Анализ анкет в фитнес клубе"
      ],
      "metadata": {
        "id": "1s2TYAamu7lx"
      }
    },
    {
      "cell_type": "markdown",
      "source": [],
      "metadata": {
        "id": "QWtpLGEju-uB"
      }
    },
    {
      "cell_type": "code",
      "execution_count": null,
      "metadata": {
        "id": "2SR6t76Duyum"
      },
      "outputs": [],
      "source": [
        "import pandas as pd\n",
        "import seaborn as sns"
      ]
    },
    {
      "cell_type": "code",
      "source": [
        "df = pd.read_csv('/content/drive/MyDrive/Colab Notebooks/fitness analysis.csv', sep = ',')\n",
        "df.head()"
      ],
      "metadata": {
        "id": "XP1AC_Snu3ai"
      },
      "execution_count": null,
      "outputs": []
    },
    {
      "cell_type": "code",
      "source": [
        "df.columns"
      ],
      "metadata": {
        "id": "eiwkNYSMvjrn"
      },
      "execution_count": null,
      "outputs": []
    },
    {
      "cell_type": "code",
      "source": [
        "df = df.drop('Your name ', axis=1)\n",
        "df.columns = ['Date', 'Gender', 'Age', 'ImportanceExercise', 'FitnessLevel', 'Frequency', 'Barriers', 'Activity',\\\n",
        "    'DoYouDo', 'Daytime', 'Unit', 'Diet', 'BarriersDiet', 'SelfRatingDiet', 'RecommendedFriend', 'PurchasedEquipment', 'Motivation']\n"
      ],
      "metadata": {
        "id": "dx3iAx0y6vgM"
      },
      "execution_count": null,
      "outputs": []
    },
    {
      "cell_type": "code",
      "source": [
        "df.head()"
      ],
      "metadata": {
        "id": "OrfqxAtn6y0N"
      },
      "execution_count": null,
      "outputs": []
    },
    {
      "cell_type": "code",
      "source": [
        "df.shape"
      ],
      "metadata": {
        "id": "NHQh676YrafW"
      },
      "execution_count": null,
      "outputs": []
    },
    {
      "cell_type": "code",
      "source": [
        "df.info()"
      ],
      "metadata": {
        "id": "p7FP34ph60pc"
      },
      "execution_count": null,
      "outputs": []
    },
    {
      "cell_type": "code",
      "source": [
        "df.isna().sum()"
      ],
      "metadata": {
        "id": "lixQqZVf88FJ"
      },
      "execution_count": null,
      "outputs": []
    },
    {
      "cell_type": "code",
      "source": [
        "df.describe()"
      ],
      "metadata": {
        "id": "ysczRwteE8Y9"
      },
      "execution_count": null,
      "outputs": []
    },
    {
      "cell_type": "code",
      "source": [
        "sns.countplot(data = df, x = 'Gender')"
      ],
      "metadata": {
        "id": "gwiRtxLRE_lA"
      },
      "execution_count": null,
      "outputs": []
    },
    {
      "cell_type": "code",
      "source": [
        "sns.countplot(data = df, x = 'Age')"
      ],
      "metadata": {
        "id": "rLl9uxVaFmPj"
      },
      "execution_count": null,
      "outputs": []
    },
    {
      "cell_type": "code",
      "source": [
        "sns.countplot(data =df, x =\"Age\", hue = 'Gender')"
      ],
      "metadata": {
        "id": "7zhL45PkqKOb"
      },
      "execution_count": null,
      "outputs": []
    },
    {
      "cell_type": "code",
      "source": [
        "sns.countplot(data =df, x =\"Age\")"
      ],
      "metadata": {
        "id": "9eh0Yc0Di1X7"
      },
      "execution_count": null,
      "outputs": []
    },
    {
      "cell_type": "code",
      "source": [
        "sns.countplot(data = df, x = 'Daytime')"
      ],
      "metadata": {
        "id": "XgbvAVd0jIxb"
      },
      "execution_count": null,
      "outputs": []
    },
    {
      "cell_type": "code",
      "source": [
        "sns.countplot(data = df, x = 'Diet')"
      ],
      "metadata": {
        "id": "zxAgl6GnjNhI"
      },
      "execution_count": null,
      "outputs": []
    },
    {
      "cell_type": "code",
      "source": [
        "df.corr()"
      ],
      "metadata": {
        "id": "k95WmPKqkgvD"
      },
      "execution_count": null,
      "outputs": []
    },
    {
      "cell_type": "markdown",
      "source": [
        "##Самые частые причины отказа"
      ],
      "metadata": {
        "id": "32VRnwO6ppLJ"
      }
    },
    {
      "cell_type": "code",
      "source": [
        "sns.countplot(data = df[df['Barriers'].isin(df['Barriers'].value_counts().head().index)], y = 'Barriers')"
      ],
      "metadata": {
        "id": "E5nmm4x5kg3H"
      },
      "execution_count": null,
      "outputs": []
    },
    {
      "cell_type": "markdown",
      "source": [
        "## Частота тренировок."
      ],
      "metadata": {
        "id": "fmGNUhRL1Q9U"
      }
    },
    {
      "cell_type": "code",
      "source": [
        "sns.countplot(data = df[df['Frequency'].isin(df.query('Frequency != \"Never\"')['Frequency'].\n",
        "                                             value_counts().index)], y = 'Frequency')"
      ],
      "metadata": {
        "id": "6Yte_5WDkg5d"
      },
      "execution_count": null,
      "outputs": []
    },
    {
      "cell_type": "code",
      "source": [
        "df['Unit'].value_counts().index"
      ],
      "metadata": {
        "id": "fxdMwhu7Lx77"
      },
      "execution_count": null,
      "outputs": []
    },
    {
      "cell_type": "markdown",
      "source": [
        "#Длительность занятий."
      ],
      "metadata": {
        "id": "XizLl57G3yu8"
      }
    },
    {
      "cell_type": "code",
      "source": [
        "sns.countplot(data = df[df['Unit'].isin(df.query('Unit != \"I don\\'t really exercise\"')['Unit'].\n",
        "                                             value_counts().index)], y = 'Unit')"
      ],
      "metadata": {
        "id": "Ak9V_B-Vkg71"
      },
      "execution_count": null,
      "outputs": []
    },
    {
      "cell_type": "markdown",
      "source": [
        "##Самые частые причины мотивации"
      ],
      "metadata": {
        "id": "LKg-MHCRN0bF"
      }
    },
    {
      "cell_type": "code",
      "source": [
        "sns.countplot(data = df[df['Motivation'].\n",
        "                        isin(df.query('Motivation != \"I\\'m sorry ... I\\'m not really interested in exercising\"')['Motivation'].\n",
        "                             value_counts().head().index)], y = 'Motivation') "
      ],
      "metadata": {
        "id": "dI4RIA_o2L58"
      },
      "execution_count": null,
      "outputs": []
    },
    {
      "cell_type": "code",
      "source": [
        "sns.countplot(data = df[df['DoYouDo'].isin(df['DoYouDo'].value_counts().head(4).index)], y = 'DoYouDo', hue = 'Gender')"
      ],
      "metadata": {
        "id": "0viCQ1-e2L2W"
      },
      "execution_count": null,
      "outputs": []
    },
    {
      "cell_type": "code",
      "source": [],
      "metadata": {
        "id": "XO-i04Igkg98"
      },
      "execution_count": null,
      "outputs": []
    }
  ]
}